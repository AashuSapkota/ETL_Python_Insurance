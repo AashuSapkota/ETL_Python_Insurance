{
 "cells": [
  {
   "cell_type": "code",
   "execution_count": 8,
   "id": "6a5098e1-74aa-4eaa-afdc-6adabc837601",
   "metadata": {},
   "outputs": [],
   "source": [
    "import glob\n",
    "import pandas as pd\n",
    "import xml.etree.ElementTree as ET\n",
    "from datetime import datetime\n",
    "from sqlalchemy import create_engine\n",
    "import urllib.parse"
   ]
  },
  {
   "cell_type": "markdown",
   "id": "b599eef7-4064-498f-b935-7517eff5cc0b",
   "metadata": {},
   "source": [
    "CSV Extraction"
   ]
  },
  {
   "cell_type": "code",
   "execution_count": 9,
   "id": "c27ad989-b424-477b-bee4-bb9a0ba651d4",
   "metadata": {},
   "outputs": [],
   "source": [
    "def extract_from_csv(file_to_process):\n",
    "    dataframe = pd.read_csv(file_to_process)\n",
    "    return dataframe"
   ]
  },
  {
   "cell_type": "markdown",
   "id": "d219a586-e2cf-4b18-b7d3-e0f40a483d12",
   "metadata": {},
   "source": [
    "JSON Extraction"
   ]
  },
  {
   "cell_type": "code",
   "execution_count": 10,
   "id": "c2ff84ca-1dd1-46c9-9644-efd6e72367b0",
   "metadata": {},
   "outputs": [],
   "source": [
    "def extract_from_json(file_to_process):\n",
    "    dataframe= pd.read_json(file_to_process)\n",
    "    return dataframe"
   ]
  },
  {
   "cell_type": "markdown",
   "id": "90778c5b-ae9b-48d0-b502-0a3ec4adf79e",
   "metadata": {},
   "source": [
    "XML Extraction"
   ]
  },
  {
   "cell_type": "code",
   "execution_count": 11,
   "id": "2cfe44b4-1e35-423d-b8b2-3f943bd350b5",
   "metadata": {},
   "outputs": [],
   "source": [
    "def extract_from_xml(file_to_process):\n",
    "    dataframe = pd.DataFrame(columns=['age', 'sex', 'bmi', 'children', 'smoker', 'region', 'charges'])\n",
    "    tree = ET.parse(file_to_process)\n",
    "    root = tree.getroot()\n",
    "    for row in root:\n",
    "        age = int(row.find(\"age\").text)\n",
    "        sex = row.find(\"sex\").text\n",
    "        bmi = float(row.find(\"bmi\").text)\n",
    "        children = row.find(\"children\").text\n",
    "        smoker = row.find(\"smoker\").text\n",
    "        region = row.find(\"region\").text\n",
    "        charges = float(row.find(\"charges\").text)\n",
    "        row_data = pd.DataFrame({'age': [age], 'sex': [sex], 'bmi': [bmi], 'children': [children], 'smoker': [smoker], 'region': [region], 'charges': [charges]})\n",
    "        dataframe = pd.concat([dataframe, row_data], ignore_index=True)\n",
    "    return dataframe"
   ]
  },
  {
   "cell_type": "markdown",
   "id": "cfb975bf-a86d-4382-a24d-e5c730d42908",
   "metadata": {},
   "source": [
    "Extract"
   ]
  },
  {
   "cell_type": "code",
   "execution_count": 12,
   "id": "9837b9e8-f6f0-4305-895d-e61962b46453",
   "metadata": {},
   "outputs": [],
   "source": [
    "def extract():\n",
    "    columns = ['age', 'sex', 'bmi','children', 'smoker', 'region', 'charges']\n",
    "    extracted_data = pd.DataFrame(columns=columns)\n",
    "    \n",
    "    for csvfile in glob.glob(\"./datasets/*.csv*\"):\n",
    "        extracted_data = pd.concat([extracted_data, extract_from_csv(csvfile)], ignore_index=True)\n",
    "\n",
    "    for jsonfile in glob.glob(\"./datasets/*.json\"):\n",
    "        extracted_data = pd.concat([extracted_data, extract_from_json(jsonfile)], ignore_index=True)\n",
    "\n",
    "    for xmlfile in glob.glob(\"./datasets/*.xml\"):\n",
    "        extracted_data = pd.concat([extracted_data, extract_from_xml(xmlfile)], ignore_index=True)\n",
    "\n",
    "    return extracted_data"
   ]
  },
  {
   "cell_type": "markdown",
   "id": "7c5e4142-755f-4309-b9df-2bce373add78",
   "metadata": {},
   "source": [
    "Transform"
   ]
  },
  {
   "cell_type": "code",
   "execution_count": 1,
   "id": "a2c321ca-8e38-45a7-bc90-4dc08fff1cde",
   "metadata": {},
   "outputs": [],
   "source": [
    "def transform(data):\n",
    "    data['bmi'] = round(data.bmi, 3)\n",
    "    data['charges'] = round(data.charges, 3)\n",
    "    data['smoker'] = data['smoker'].map({'yes': 1, 'no': 0})\n",
    "    return data"
   ]
  },
  {
   "cell_type": "markdown",
   "id": "fa73ce95-1ccb-4100-a76a-9115ffb7ff97",
   "metadata": {},
   "source": [
    "MySQL Connection"
   ]
  },
  {
   "cell_type": "code",
   "execution_count": 14,
   "id": "a120eabe-5fc0-4e8b-a65f-3713f9074cbc",
   "metadata": {},
   "outputs": [],
   "source": [
    "host = 'localhost'\n",
    "user = '' # add your user\n",
    "password = '' # add your password\n",
    "database = 'insurance_db'\n",
    "table_name = 'tbl_insurance'\n",
    "password = urllib.parse.quote_plus(password)\n",
    "engine = create_engine(f\"mysql+mysqlconnector://{user}:{password}@{host}/{database}\")"
   ]
  },
  {
   "cell_type": "markdown",
   "id": "9b81bae9-1adf-4e18-b5c3-040e198cb740",
   "metadata": {},
   "source": [
    "Load"
   ]
  },
  {
   "cell_type": "code",
   "execution_count": 15,
   "id": "d5831c21-f914-4784-8ee9-6b1bb7f34c48",
   "metadata": {},
   "outputs": [],
   "source": [
    "def load(data):\n",
    "    # if_exists='append' will add data to existing\n",
    "    # if_exists='replace' will remove the existing data and add new data\n",
    "    data.to_sql(name=table_name, con=engine, if_exists='replace', index=False)"
   ]
  },
  {
   "cell_type": "markdown",
   "id": "2eb9d957-e5f3-4510-b2db-b8d24681715a",
   "metadata": {},
   "source": [
    "Log"
   ]
  },
  {
   "cell_type": "code",
   "execution_count": 16,
   "id": "ba3b8187-e8e7-47c4-81fb-968689f8090e",
   "metadata": {},
   "outputs": [],
   "source": [
    "def log(message):\n",
    "    timestamp_format = '%Y-%m-%d %H:%M:%S.%f'\n",
    "    now = datetime.now()\n",
    "    timestamp = now.strftime(timestamp_format)\n",
    "    with open(\"./log/logfile.txt\", \"a\") as f:\n",
    "        f.write(timestamp+', '+message+'\\n')"
   ]
  },
  {
   "cell_type": "markdown",
   "id": "556d319b-537d-4654-8501-949c4ec3dca8",
   "metadata": {},
   "source": [
    "Execution"
   ]
  },
  {
   "cell_type": "code",
   "execution_count": 17,
   "id": "0c85755e-9af9-497a-899b-70d0ab65c5fd",
   "metadata": {},
   "outputs": [
    {
     "name": "stderr",
     "output_type": "stream",
     "text": [
      "/tmp/ipykernel_38866/2870120228.py:6: FutureWarning: The behavior of DataFrame concatenation with empty or all-NA entries is deprecated. In a future version, this will no longer exclude empty or all-NA columns when determining the result dtypes. To retain the old behavior, exclude the relevant entries before the concat operation.\n",
      "  extracted_data = pd.concat([extracted_data, extract_from_csv(csvfile)], ignore_index=True)\n",
      "/tmp/ipykernel_38866/1819396679.py:14: FutureWarning: The behavior of DataFrame concatenation with empty or all-NA entries is deprecated. In a future version, this will no longer exclude empty or all-NA columns when determining the result dtypes. To retain the old behavior, exclude the relevant entries before the concat operation.\n",
      "  dataframe = pd.concat([dataframe, row_data], ignore_index=True)\n"
     ]
    }
   ],
   "source": [
    "log(\"ETL Job Started\")\n",
    "log(\"Extracting Data\")\n",
    "extracted_data = extract()\n",
    "log(\"Data Extraction Completed\")\n",
    "log(\"Transforming Data\")\n",
    "transformed_data = transform(extracted_data)\n",
    "log(\"Data Transformation Completed\")\n",
    "log(\"Loading Data\")\n",
    "load(transformed_data)\n",
    "log(\"Data Loaded\")\n",
    "log(\"ETL Job Completed\")"
   ]
  }
 ],
 "metadata": {
  "kernelspec": {
   "display_name": "Python 3 (ipykernel)",
   "language": "python",
   "name": "python3"
  },
  "language_info": {
   "codemirror_mode": {
    "name": "ipython",
    "version": 3
   },
   "file_extension": ".py",
   "mimetype": "text/x-python",
   "name": "python",
   "nbconvert_exporter": "python",
   "pygments_lexer": "ipython3",
   "version": "3.10.12"
  }
 },
 "nbformat": 4,
 "nbformat_minor": 5
}
