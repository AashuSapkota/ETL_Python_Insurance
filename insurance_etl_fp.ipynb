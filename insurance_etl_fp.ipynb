{
 "cells": [
  {
   "cell_type": "code",
   "execution_count": 1,
   "id": "a5e1f449-4a1f-49b1-8a5b-81b212e6bea5",
   "metadata": {},
   "outputs": [],
   "source": [
    "import glob\n",
    "import pandas as pd\n",
    "import xml.etree.ElementTree as ET\n",
    "from datetime import datetime\n",
    "from sqlalchemy import create_engine\n",
    "import urllib.parse"
   ]
  },
  {
   "cell_type": "code",
   "execution_count": 2,
   "id": "52332c51-0110-4c98-8ea8-aef25a552533",
   "metadata": {},
   "outputs": [],
   "source": [
    "class ETLFactory:\n",
    "    def __init__(self, host, user, password, database, table_name):\n",
    "        self.host = host\n",
    "        self.user = user\n",
    "        self.password = urllib.parse.quote_plus(password)\n",
    "        self.database = database\n",
    "        self.table_name = table_name\n",
    "\n",
    "        self.columns = ['age', 'sex', 'bmi', 'children', 'smoker', 'region', 'charges']\n",
    "        self.engine = create_engine(f\"mysql+mysqlconnector://{user}:{self.password}@{host}/{database}\")\n",
    "        \n",
    "\n",
    "    def extract_from_csv(self, file_to_process):\n",
    "        dataframe = pd.read_csv(file_to_process)\n",
    "        return dataframe\n",
    "\n",
    "    \n",
    "    def extract_from_json(self, file_to_process):\n",
    "        dataframe= pd.read_json(file_to_process)\n",
    "        return dataframe\n",
    "\n",
    "    \n",
    "    def extract_from_xml(self, file_to_process):\n",
    "        dataframe = pd.DataFrame(columns=['age', 'sex', 'bmi', 'children', 'smoker', 'region', 'charges'])\n",
    "        tree = ET.parse(file_to_process)\n",
    "        root = tree.getroot()\n",
    "        for row in root:\n",
    "            age = int(row.find(\"age\").text)\n",
    "            sex = row.find(\"sex\").text\n",
    "            bmi = float(row.find(\"bmi\").text)\n",
    "            children = row.find(\"children\").text\n",
    "            smoker = row.find(\"smoker\").text\n",
    "            region = row.find(\"region\").text\n",
    "            charges = float(row.find(\"charges\").text)\n",
    "            row_data = pd.DataFrame({'age': [age], 'sex': [sex], 'bmi': [bmi], 'children': [children], 'smoker': [smoker], 'region': [region], 'charges': [charges]})\n",
    "            dataframe = pd.concat([dataframe, row_data], ignore_index=True)\n",
    "        return dataframe\n",
    "\n",
    "    \n",
    "    def extract(self, file_pattern):\n",
    "        extracted_data = pd.DataFrame(columns=self.columns)\n",
    "        for file_to_process in glob.glob(file_pattern):\n",
    "            if file_to_process.endswith('.csv'):\n",
    "                extracted_data = pd.concat([extracted_data, self.extract_from_csv(file_to_process)], ignore_index=True)\n",
    "            elif file_to_process.endswith('.json'):\n",
    "                extracted_data = pd.concat([extracted_data, self.extract_from_json(file_to_process)], ignore_index=True)\n",
    "            elif file_to_process.endswith('.xml'):\n",
    "                extracted_data = pd.concat([extracted_data, self.extract_from_xml(file_to_process)], ignore_index=True)\n",
    "        return extracted_data\n",
    "\n",
    "    \n",
    "    def transform(self, data):\n",
    "        data['bmi'] = round(data['bmi'], 3)\n",
    "        data['charges'] = round(data['charges'], 3)\n",
    "        data['smoker'] = data['smoker'].map({'yes': 1, 'no': 0})\n",
    "        return data\n",
    "\n",
    "    \n",
    "    def load(self, data, if_exists='replace'):\n",
    "        data.to_sql(name=self.table_name, con=self.engine, if_exists=if_exists, index=False)\n",
    "\n",
    "    \n",
    "    def log(self, message):\n",
    "        timestamp_format = '%Y-%m-%d %H:%M:%S.%f'\n",
    "        now = datetime.now()\n",
    "        timestamp = now.strftime(timestamp_format)\n",
    "        with open(\"./log/logfile.txt\", \"a\") as f:\n",
    "            f.write(timestamp + ', ' + message + '\\n')\n",
    "\n",
    "    \n",
    "    def run(self, file_pattern):\n",
    "        self.log(\"ETL Job Started\")\n",
    "        self.log(\"Extracting Data\")\n",
    "        extracted_data = self.extract(file_pattern)\n",
    "        self.log(\"Data Extraction Completed\")\n",
    "        self.log(\"Transforming Data\")\n",
    "        transformed_data = self.transform(extracted_data)\n",
    "        self.log(\"Data Transformation Completedd\")\n",
    "        self.log(\"Loading Data\")\n",
    "        self.load(transformed_data)\n",
    "        self.log(\"Data Loaded\")\n",
    "        self.log(\"ETL Job Completed\")"
   ]
  },
  {
   "cell_type": "code",
   "execution_count": 3,
   "id": "efcb50b4-96dd-4af6-817d-f0a2a9ce8bcc",
   "metadata": {},
   "outputs": [
    {
     "name": "stderr",
     "output_type": "stream",
     "text": [
      "/tmp/ipykernel_6678/2630256416.py:44: FutureWarning: The behavior of DataFrame concatenation with empty or all-NA entries is deprecated. In a future version, this will no longer exclude empty or all-NA columns when determining the result dtypes. To retain the old behavior, exclude the relevant entries before the concat operation.\n",
      "  extracted_data = pd.concat([extracted_data, self.extract_from_csv(file_to_process)], ignore_index=True)\n",
      "/tmp/ipykernel_6678/2630256416.py:36: FutureWarning: The behavior of DataFrame concatenation with empty or all-NA entries is deprecated. In a future version, this will no longer exclude empty or all-NA columns when determining the result dtypes. To retain the old behavior, exclude the relevant entries before the concat operation.\n",
      "  dataframe = pd.concat([dataframe, row_data], ignore_index=True)\n"
     ]
    }
   ],
   "source": [
    "host = 'localhost'\n",
    "user = '' # add your user\n",
    "password = '' # add your password\n",
    "database = 'insurance_db'\n",
    "table_name = 'tbl_insurance'\n",
    "file_pattern = \"./datasets/*.*\"\n",
    "\n",
    "etl = ETLFactory(host, user, password, database, table_name)\n",
    "etl.run(file_pattern)"
   ]
  },
  {
   "cell_type": "code",
   "execution_count": null,
   "id": "238bab69-54df-4429-a613-2b3419ce1880",
   "metadata": {},
   "outputs": [],
   "source": []
  }
 ],
 "metadata": {
  "kernelspec": {
   "display_name": "Python 3 (ipykernel)",
   "language": "python",
   "name": "python3"
  },
  "language_info": {
   "codemirror_mode": {
    "name": "ipython",
    "version": 3
   },
   "file_extension": ".py",
   "mimetype": "text/x-python",
   "name": "python",
   "nbconvert_exporter": "python",
   "pygments_lexer": "ipython3",
   "version": "3.10.12"
  }
 },
 "nbformat": 4,
 "nbformat_minor": 5
}
